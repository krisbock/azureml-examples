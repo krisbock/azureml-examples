{
 "cells": [
  {
   "cell_type": "markdown",
   "metadata": {},
   "source": [
    "# Exploratory Data Analysis\n",
    "\n",
    "To get started, we will prototype the workflow locally.\n",
    "\n",
    "**Warning:** this notebook may fail if your local machine does not have sufficient resources. "
   ]
  },
  {
   "cell_type": "markdown",
   "metadata": {},
   "source": [
    "## Install requirements\n",
    "\n",
    "Install required packages."
   ]
  },
  {
   "cell_type": "code",
   "execution_count": 9,
   "metadata": {},
   "outputs": [
    {
     "name": "stdout",
     "output_type": "stream",
     "text": [
      "Requirement already satisfied: dask==2021.1.1 in /Users/cody/miniconda3/envs/dkdc/lib/python3.8/site-packages (2021.1.1)\n",
      "Requirement already satisfied: distributed==2021.1.1 in /Users/cody/miniconda3/envs/dkdc/lib/python3.8/site-packages (2021.1.1)\n",
      "Requirement already satisfied: xgboost==1.3.3 in /Users/cody/miniconda3/envs/dkdc/lib/python3.8/site-packages (1.3.3)\n",
      "Collecting adlfs==0.6.3\n",
      "  Using cached adlfs-0.6.3-py3-none-any.whl\n",
      "Requirement already satisfied: fastparquet in /Users/cody/miniconda3/envs/dkdc/lib/python3.8/site-packages (0.5.0)\n",
      "Requirement already satisfied: pandas in /Users/cody/miniconda3/envs/dkdc/lib/python3.8/site-packages (1.2.3)\n",
      "Requirement already satisfied: bokeh in /Users/cody/miniconda3/envs/dkdc/lib/python3.8/site-packages (2.3.0)\n",
      "Requirement already satisfied: msrestazure in /Users/cody/miniconda3/envs/dkdc/lib/python3.8/site-packages (from adlfs==0.6.3) (0.6.4)\n",
      "Requirement already satisfied: azure-datalake-store<0.1,>=0.0.46 in /Users/cody/miniconda3/envs/dkdc/lib/python3.8/site-packages (from adlfs==0.6.3) (0.0.51)\n",
      "Requirement already satisfied: azure-storage-blob<12.7.0,>=12.5.0 in /Users/cody/miniconda3/envs/dkdc/lib/python3.8/site-packages (from adlfs==0.6.3) (12.6.0)\n",
      "Requirement already satisfied: azure-core>=1.5.0 in /Users/cody/miniconda3/envs/dkdc/lib/python3.8/site-packages (from adlfs==0.6.3) (1.12.0)\n",
      "Requirement already satisfied: fsspec>=0.8.0 in /Users/cody/miniconda3/envs/dkdc/lib/python3.8/site-packages (from adlfs==0.6.3) (0.8.7)\n",
      "Requirement already satisfied: azure-identity in /Users/cody/miniconda3/envs/dkdc/lib/python3.8/site-packages (from adlfs==0.6.3) (1.4.1)\n",
      "Requirement already satisfied: aiohttp in /Users/cody/miniconda3/envs/dkdc/lib/python3.8/site-packages (from adlfs==0.6.3) (3.7.4.post0)\n",
      "Requirement already satisfied: requests<3.0,>=2.22.0 in /Users/cody/miniconda3/envs/dkdc/lib/python3.8/site-packages (from adlfs==0.6.3) (2.25.1)\n",
      "Requirement already satisfied: pyyaml in /Users/cody/miniconda3/envs/dkdc/lib/python3.8/site-packages (from dask==2021.1.1) (5.4.1)\n",
      "Requirement already satisfied: psutil>=5.0 in /Users/cody/miniconda3/envs/dkdc/lib/python3.8/site-packages (from distributed==2021.1.1) (5.8.0)\n",
      "Requirement already satisfied: setuptools in /Users/cody/miniconda3/envs/dkdc/lib/python3.8/site-packages (from distributed==2021.1.1) (52.0.0.post20210125)\n",
      "Requirement already satisfied: cloudpickle>=1.5.0 in /Users/cody/miniconda3/envs/dkdc/lib/python3.8/site-packages (from distributed==2021.1.1) (1.6.0)\n",
      "Requirement already satisfied: zict>=0.1.3 in /Users/cody/miniconda3/envs/dkdc/lib/python3.8/site-packages (from distributed==2021.1.1) (2.0.0)\n",
      "Requirement already satisfied: msgpack>=0.6.0 in /Users/cody/miniconda3/envs/dkdc/lib/python3.8/site-packages (from distributed==2021.1.1) (1.0.2)\n",
      "Requirement already satisfied: tornado>=6.0.3 in /Users/cody/miniconda3/envs/dkdc/lib/python3.8/site-packages (from distributed==2021.1.1) (6.1)\n",
      "Requirement already satisfied: sortedcontainers!=2.0.0,!=2.0.1 in /Users/cody/miniconda3/envs/dkdc/lib/python3.8/site-packages (from distributed==2021.1.1) (2.3.0)\n",
      "Requirement already satisfied: click>=6.6 in /Users/cody/miniconda3/envs/dkdc/lib/python3.8/site-packages (from distributed==2021.1.1) (7.1.2)\n",
      "Requirement already satisfied: toolz>=0.8.2 in /Users/cody/miniconda3/envs/dkdc/lib/python3.8/site-packages (from distributed==2021.1.1) (0.11.1)\n",
      "Requirement already satisfied: tblib>=1.6.0 in /Users/cody/miniconda3/envs/dkdc/lib/python3.8/site-packages (from distributed==2021.1.1) (1.7.0)\n",
      "Requirement already satisfied: numpy in /Users/cody/miniconda3/envs/dkdc/lib/python3.8/site-packages (from xgboost==1.3.3) (1.20.1)\n",
      "Requirement already satisfied: scipy in /Users/cody/miniconda3/envs/dkdc/lib/python3.8/site-packages (from xgboost==1.3.3) (1.6.2)\n",
      "Requirement already satisfied: six>=1.11.0 in /Users/cody/miniconda3/envs/dkdc/lib/python3.8/site-packages (from azure-core>=1.5.0->adlfs==0.6.3) (1.15.0)\n",
      "Requirement already satisfied: cffi in /Users/cody/miniconda3/envs/dkdc/lib/python3.8/site-packages (from azure-datalake-store<0.1,>=0.0.46->adlfs==0.6.3) (1.14.5)\n",
      "Requirement already satisfied: adal>=0.4.2 in /Users/cody/miniconda3/envs/dkdc/lib/python3.8/site-packages (from azure-datalake-store<0.1,>=0.0.46->adlfs==0.6.3) (1.2.6)\n",
      "Requirement already satisfied: PyJWT<3,>=1.0.0 in /Users/cody/miniconda3/envs/dkdc/lib/python3.8/site-packages (from adal>=0.4.2->azure-datalake-store<0.1,>=0.0.46->adlfs==0.6.3) (2.0.1)\n",
      "Requirement already satisfied: python-dateutil<3,>=2.1.0 in /Users/cody/miniconda3/envs/dkdc/lib/python3.8/site-packages (from adal>=0.4.2->azure-datalake-store<0.1,>=0.0.46->adlfs==0.6.3) (2.8.1)\n",
      "Requirement already satisfied: cryptography>=1.1.0 in /Users/cody/miniconda3/envs/dkdc/lib/python3.8/site-packages (from adal>=0.4.2->azure-datalake-store<0.1,>=0.0.46->adlfs==0.6.3) (3.4.7)\n",
      "Requirement already satisfied: msrest>=0.6.10 in /Users/cody/miniconda3/envs/dkdc/lib/python3.8/site-packages (from azure-storage-blob<12.7.0,>=12.5.0->adlfs==0.6.3) (0.6.21)\n",
      "Requirement already satisfied: pycparser in /Users/cody/miniconda3/envs/dkdc/lib/python3.8/site-packages (from cffi->azure-datalake-store<0.1,>=0.0.46->adlfs==0.6.3) (2.20)\n",
      "Requirement already satisfied: isodate>=0.6.0 in /Users/cody/miniconda3/envs/dkdc/lib/python3.8/site-packages (from msrest>=0.6.10->azure-storage-blob<12.7.0,>=12.5.0->adlfs==0.6.3) (0.6.0)\n",
      "Requirement already satisfied: requests-oauthlib>=0.5.0 in /Users/cody/miniconda3/envs/dkdc/lib/python3.8/site-packages (from msrest>=0.6.10->azure-storage-blob<12.7.0,>=12.5.0->adlfs==0.6.3) (1.3.0)\n",
      "Requirement already satisfied: certifi>=2017.4.17 in /Users/cody/miniconda3/envs/dkdc/lib/python3.8/site-packages (from msrest>=0.6.10->azure-storage-blob<12.7.0,>=12.5.0->adlfs==0.6.3) (2020.12.5)\n",
      "Requirement already satisfied: chardet<5,>=3.0.2 in /Users/cody/miniconda3/envs/dkdc/lib/python3.8/site-packages (from requests<3.0,>=2.22.0->adlfs==0.6.3) (4.0.0)\n",
      "Requirement already satisfied: idna<3,>=2.5 in /Users/cody/miniconda3/envs/dkdc/lib/python3.8/site-packages (from requests<3.0,>=2.22.0->adlfs==0.6.3) (2.10)\n",
      "Requirement already satisfied: urllib3<1.27,>=1.21.1 in /Users/cody/miniconda3/envs/dkdc/lib/python3.8/site-packages (from requests<3.0,>=2.22.0->adlfs==0.6.3) (1.26.4)\n",
      "Requirement already satisfied: oauthlib>=3.0.0 in /Users/cody/miniconda3/envs/dkdc/lib/python3.8/site-packages (from requests-oauthlib>=0.5.0->msrest>=0.6.10->azure-storage-blob<12.7.0,>=12.5.0->adlfs==0.6.3) (3.1.0)\n",
      "Requirement already satisfied: heapdict in /Users/cody/miniconda3/envs/dkdc/lib/python3.8/site-packages (from zict>=0.1.3->distributed==2021.1.1) (1.0.1)\n",
      "Requirement already satisfied: Jinja2>=2.7 in /Users/cody/miniconda3/envs/dkdc/lib/python3.8/site-packages (from bokeh) (2.11.3)\n",
      "Requirement already satisfied: packaging>=16.8 in /Users/cody/miniconda3/envs/dkdc/lib/python3.8/site-packages (from bokeh) (20.9)\n",
      "Requirement already satisfied: pillow>=7.1.0 in /Users/cody/miniconda3/envs/dkdc/lib/python3.8/site-packages (from bokeh) (8.1.2)\n",
      "Requirement already satisfied: typing-extensions>=3.7.4 in /Users/cody/miniconda3/envs/dkdc/lib/python3.8/site-packages (from bokeh) (3.7.4.3)\n",
      "Requirement already satisfied: MarkupSafe>=0.23 in /Users/cody/miniconda3/envs/dkdc/lib/python3.8/site-packages (from Jinja2>=2.7->bokeh) (1.1.1)\n",
      "Requirement already satisfied: pyparsing>=2.0.2 in /Users/cody/miniconda3/envs/dkdc/lib/python3.8/site-packages (from packaging>=16.8->bokeh) (2.4.7)\n",
      "Requirement already satisfied: numba>=0.49 in /Users/cody/miniconda3/envs/dkdc/lib/python3.8/site-packages (from fastparquet) (0.53.1)\n",
      "Requirement already satisfied: thrift>=0.11.0 in /Users/cody/miniconda3/envs/dkdc/lib/python3.8/site-packages (from fastparquet) (0.13.0)\n",
      "Requirement already satisfied: pytz>=2017.3 in /Users/cody/miniconda3/envs/dkdc/lib/python3.8/site-packages (from pandas) (2021.1)\n",
      "Requirement already satisfied: llvmlite<0.37,>=0.36.0rc1 in /Users/cody/miniconda3/envs/dkdc/lib/python3.8/site-packages (from numba>=0.49->fastparquet) (0.36.0)\n",
      "Requirement already satisfied: async-timeout<4.0,>=3.0 in /Users/cody/miniconda3/envs/dkdc/lib/python3.8/site-packages (from aiohttp->adlfs==0.6.3) (3.0.1)\n",
      "Requirement already satisfied: attrs>=17.3.0 in /Users/cody/miniconda3/envs/dkdc/lib/python3.8/site-packages (from aiohttp->adlfs==0.6.3) (20.3.0)\n",
      "Requirement already satisfied: multidict<7.0,>=4.5 in /Users/cody/miniconda3/envs/dkdc/lib/python3.8/site-packages (from aiohttp->adlfs==0.6.3) (5.1.0)\n",
      "Requirement already satisfied: yarl<2.0,>=1.0 in /Users/cody/miniconda3/envs/dkdc/lib/python3.8/site-packages (from aiohttp->adlfs==0.6.3) (1.6.3)\n",
      "Requirement already satisfied: msal-extensions~=0.2.2 in /Users/cody/miniconda3/envs/dkdc/lib/python3.8/site-packages (from azure-identity->adlfs==0.6.3) (0.2.2)\n",
      "Requirement already satisfied: msal<2.0.0,>=1.3.0 in /Users/cody/miniconda3/envs/dkdc/lib/python3.8/site-packages (from azure-identity->adlfs==0.6.3) (1.10.0)\n",
      "Requirement already satisfied: portalocker~=1.0 in /Users/cody/miniconda3/envs/dkdc/lib/python3.8/site-packages (from msal-extensions~=0.2.2->azure-identity->adlfs==0.6.3) (1.7.1)\n",
      "Installing collected packages: adlfs\n",
      "  Attempting uninstall: adlfs\n",
      "    Found existing installation: adlfs 0.7.0\n",
      "    Uninstalling adlfs-0.7.0:\n",
      "      Successfully uninstalled adlfs-0.7.0\n",
      "Successfully installed adlfs-0.6.3\n"
     ]
    }
   ],
   "source": [
    "!pip install --upgrade dask==2021.1.1 distributed==2021.1.1 xgboost==1.3.3 adlfs==0.6.3 fastparquet pandas bokeh"
   ]
  },
  {
   "cell_type": "markdown",
   "metadata": {},
   "source": [
    "## Get Data\n",
    "\n",
    "The data is modified from a Kaggle competition and hosted publicly."
   ]
  },
  {
   "cell_type": "markdown",
   "metadata": {},
   "source": [
    "start a distributed Client"
   ]
  },
  {
   "cell_type": "code",
   "execution_count": 10,
   "metadata": {},
   "outputs": [
    {
     "name": "stderr",
     "output_type": "stream",
     "text": [
      "/Users/cody/miniconda3/envs/dkdc/lib/python3.8/site-packages/distributed/node.py:151: UserWarning: Port 8787 is already in use.\n",
      "Perhaps you already have a cluster running?\n",
      "Hosting the HTTP server on port 50481 instead\n",
      "  warnings.warn(\n"
     ]
    },
    {
     "data": {
      "text/html": "<table style=\"border: 2px solid white;\">\n<tr>\n<td style=\"vertical-align: top; border: 0px solid white\">\n<h3 style=\"text-align: left;\">Client</h3>\n<ul style=\"text-align: left; list-style: none; margin: 0; padding: 0;\">\n  <li><b>Scheduler: </b>tcp://127.0.0.1:50482</li>\n  <li><b>Dashboard: </b><a href='http://127.0.0.1:50481/status' target='_blank'>http://127.0.0.1:50481/status</a></li>\n</ul>\n</td>\n<td style=\"vertical-align: top; border: 0px solid white\">\n<h3 style=\"text-align: left;\">Cluster</h3>\n<ul style=\"text-align: left; list-style:none; margin: 0; padding: 0;\">\n  <li><b>Workers: </b>3</li>\n  <li><b>Cores: </b>6</li>\n  <li><b>Memory: </b>68.72 GB</li>\n</ul>\n</td>\n</tr>\n</table>",
      "text/plain": "<Client: 'tcp://127.0.0.1:50482' processes=3 threads=6, memory=68.72 GB>"
     },
     "execution_count": 10,
     "metadata": {},
     "output_type": "execute_result"
    }
   ],
   "source": [
    "from distributed import Client\n",
    "\n",
    "c = Client()\n",
    "c"
   ]
  },
  {
   "cell_type": "markdown",
   "metadata": {},
   "source": [
    "initialize the Pythonic filesystem\n",
    "\n",
    "**Tip:** if you're not using public data, you need to provide data credentials. These can be retrieved through Azure ML Datastores, e.g.:\n",
    "\n",
    "```python\n",
    "from azureml.core import Workspace\n",
    "\n",
    "ws = Workspace.from_config()\n",
    "ds = ws.get_default_datastore() # ws.datastores[\"my-datastore-name\"]\n",
    "\n",
    "storage_options = {\n",
    "    \"account_name\": ds.account_name,\n",
    "    \"account_key\": ds.account_key\n",
    "}\n",
    "```"
   ]
  },
  {
   "cell_type": "code",
   "execution_count": 11,
   "metadata": {},
   "outputs": [
    {
     "data": {
      "text/plain": "<adlfs.spec.AzureBlobFileSystem at 0x7fcbb04b6a00>"
     },
     "execution_count": 11,
     "metadata": {},
     "output_type": "execute_result"
    }
   ],
   "source": [
    "from adlfs import AzureBlobFileSystem\n",
    "\n",
    "container_name = \"malware\"\n",
    "storage_options = {\"account_name\": \"azuremlexamples\"}\n",
    "\n",
    "fs = AzureBlobFileSystem(**storage_options)\n",
    "fs"
   ]
  },
  {
   "cell_type": "markdown",
   "metadata": {},
   "source": [
    "list the processed (partitioned) files"
   ]
  },
  {
   "cell_type": "code",
   "execution_count": 12,
   "metadata": {},
   "outputs": [
    {
     "data": {
      "text/plain": "['malware/processed/test.parquet', 'malware/processed/train.parquet']"
     },
     "execution_count": 12,
     "metadata": {},
     "output_type": "execute_result"
    }
   ],
   "source": [
    "files = fs.ls(f\"{container_name}/processed\")\n",
    "files"
   ]
  },
  {
   "cell_type": "markdown",
   "metadata": {},
   "source": [
    "read data into a (dask) dataframe - note pandas also accepts the ``storage_options`` argument"
   ]
  },
  {
   "cell_type": "code",
   "execution_count": 13,
   "metadata": {},
   "outputs": [
    {
     "data": {
      "text/html": "<div><strong>Dask DataFrame Structure:</strong></div>\n<div>\n<style scoped>\n    .dataframe tbody tr th:only-of-type {\n        vertical-align: middle;\n    }\n\n    .dataframe tbody tr th {\n        vertical-align: top;\n    }\n\n    .dataframe thead th {\n        text-align: right;\n    }\n</style>\n<table border=\"1\" class=\"dataframe\">\n  <thead>\n    <tr style=\"text-align: right;\">\n      <th></th>\n      <th>ProductName</th>\n      <th>EngineVersion</th>\n      <th>AppVersion</th>\n      <th>AvSigVersion</th>\n      <th>IsBeta</th>\n      <th>RtpStateBitfield</th>\n      <th>IsSxsPassiveMode</th>\n      <th>DefaultBrowsersIdentifier</th>\n      <th>AVProductStatesIdentifier</th>\n      <th>AVProductsInstalled</th>\n      <th>AVProductsEnabled</th>\n      <th>HasTpm</th>\n      <th>CountryIdentifier</th>\n      <th>CityIdentifier</th>\n      <th>OrganizationIdentifier</th>\n      <th>GeoNameIdentifier</th>\n      <th>LocaleEnglishNameIdentifier</th>\n      <th>Platform</th>\n      <th>Processor</th>\n      <th>OsVer</th>\n      <th>OsBuild</th>\n      <th>OsSuite</th>\n      <th>OsPlatformSubRelease</th>\n      <th>OsBuildLab</th>\n      <th>SkuEdition</th>\n      <th>IsProtected</th>\n      <th>AutoSampleOptIn</th>\n      <th>PuaMode</th>\n      <th>SMode</th>\n      <th>IeVerIdentifier</th>\n      <th>SmartScreen</th>\n      <th>Firewall</th>\n      <th>UacLuaenable</th>\n      <th>Census_MDC2FormFactor</th>\n      <th>Census_DeviceFamily</th>\n      <th>Census_OEMNameIdentifier</th>\n      <th>Census_OEMModelIdentifier</th>\n      <th>Census_ProcessorCoreCount</th>\n      <th>Census_ProcessorManufacturerIdentifier</th>\n      <th>Census_ProcessorModelIdentifier</th>\n      <th>Census_ProcessorClass</th>\n      <th>Census_PrimaryDiskTotalCapacity</th>\n      <th>Census_PrimaryDiskTypeName</th>\n      <th>Census_SystemVolumeTotalCapacity</th>\n      <th>Census_HasOpticalDiskDrive</th>\n      <th>Census_TotalPhysicalRAM</th>\n      <th>Census_ChassisTypeName</th>\n      <th>Census_InternalPrimaryDiagonalDisplaySizeInInches</th>\n      <th>Census_InternalPrimaryDisplayResolutionHorizontal</th>\n      <th>Census_InternalPrimaryDisplayResolutionVertical</th>\n      <th>Census_PowerPlatformRoleName</th>\n      <th>Census_InternalBatteryType</th>\n      <th>Census_InternalBatteryNumberOfCharges</th>\n      <th>Census_OSVersion</th>\n      <th>Census_OSArchitecture</th>\n      <th>Census_OSBranch</th>\n      <th>Census_OSBuildNumber</th>\n      <th>Census_OSBuildRevision</th>\n      <th>Census_OSEdition</th>\n      <th>Census_OSSkuName</th>\n      <th>Census_OSInstallTypeName</th>\n      <th>Census_OSInstallLanguageIdentifier</th>\n      <th>Census_OSUILocaleIdentifier</th>\n      <th>Census_OSWUAutoUpdateOptionsName</th>\n      <th>Census_IsPortableOperatingSystem</th>\n      <th>Census_GenuineStateName</th>\n      <th>Census_ActivationChannel</th>\n      <th>Census_IsFlightingInternal</th>\n      <th>Census_IsFlightsDisabled</th>\n      <th>Census_FlightRing</th>\n      <th>Census_ThresholdOptIn</th>\n      <th>Census_FirmwareManufacturerIdentifier</th>\n      <th>Census_FirmwareVersionIdentifier</th>\n      <th>Census_IsSecureBootEnabled</th>\n      <th>Census_IsWIMBootEnabled</th>\n      <th>Census_IsVirtualDevice</th>\n      <th>Census_IsTouchEnabled</th>\n      <th>Census_IsPenCapable</th>\n      <th>Census_IsAlwaysOnAlwaysConnectedCapable</th>\n      <th>Wdft_IsGamer</th>\n      <th>Wdft_RegionIdentifier</th>\n      <th>HasDetections</th>\n    </tr>\n    <tr>\n      <th>npartitions=256</th>\n      <th></th>\n      <th></th>\n      <th></th>\n      <th></th>\n      <th></th>\n      <th></th>\n      <th></th>\n      <th></th>\n      <th></th>\n      <th></th>\n      <th></th>\n      <th></th>\n      <th></th>\n      <th></th>\n      <th></th>\n      <th></th>\n      <th></th>\n      <th></th>\n      <th></th>\n      <th></th>\n      <th></th>\n      <th></th>\n      <th></th>\n      <th></th>\n      <th></th>\n      <th></th>\n      <th></th>\n      <th></th>\n      <th></th>\n      <th></th>\n      <th></th>\n      <th></th>\n      <th></th>\n      <th></th>\n      <th></th>\n      <th></th>\n      <th></th>\n      <th></th>\n      <th></th>\n      <th></th>\n      <th></th>\n      <th></th>\n      <th></th>\n      <th></th>\n      <th></th>\n      <th></th>\n      <th></th>\n      <th></th>\n      <th></th>\n      <th></th>\n      <th></th>\n      <th></th>\n      <th></th>\n      <th></th>\n      <th></th>\n      <th></th>\n      <th></th>\n      <th></th>\n      <th></th>\n      <th></th>\n      <th></th>\n      <th></th>\n      <th></th>\n      <th></th>\n      <th></th>\n      <th></th>\n      <th></th>\n      <th></th>\n      <th></th>\n      <th></th>\n      <th></th>\n      <th></th>\n      <th></th>\n      <th></th>\n      <th></th>\n      <th></th>\n      <th></th>\n      <th></th>\n      <th></th>\n      <th></th>\n      <th></th>\n      <th></th>\n    </tr>\n  </thead>\n  <tbody>\n    <tr>\n      <th>0000028988387b115f69f31a3bf04f09</th>\n      <td>object</td>\n      <td>object</td>\n      <td>object</td>\n      <td>object</td>\n      <td>int64</td>\n      <td>float64</td>\n      <td>int64</td>\n      <td>float64</td>\n      <td>float64</td>\n      <td>float64</td>\n      <td>float64</td>\n      <td>int64</td>\n      <td>int64</td>\n      <td>float64</td>\n      <td>float64</td>\n      <td>float64</td>\n      <td>int64</td>\n      <td>object</td>\n      <td>object</td>\n      <td>object</td>\n      <td>int64</td>\n      <td>int64</td>\n      <td>object</td>\n      <td>object</td>\n      <td>object</td>\n      <td>float64</td>\n      <td>int64</td>\n      <td>object</td>\n      <td>float64</td>\n      <td>float64</td>\n      <td>object</td>\n      <td>float64</td>\n      <td>float64</td>\n      <td>object</td>\n      <td>object</td>\n      <td>float64</td>\n      <td>float64</td>\n      <td>float64</td>\n      <td>float64</td>\n      <td>float64</td>\n      <td>object</td>\n      <td>float64</td>\n      <td>object</td>\n      <td>float64</td>\n      <td>int64</td>\n      <td>float64</td>\n      <td>object</td>\n      <td>float64</td>\n      <td>float64</td>\n      <td>float64</td>\n      <td>object</td>\n      <td>object</td>\n      <td>float64</td>\n      <td>object</td>\n      <td>object</td>\n      <td>object</td>\n      <td>int64</td>\n      <td>int64</td>\n      <td>object</td>\n      <td>object</td>\n      <td>object</td>\n      <td>float64</td>\n      <td>int64</td>\n      <td>object</td>\n      <td>int64</td>\n      <td>object</td>\n      <td>object</td>\n      <td>float64</td>\n      <td>float64</td>\n      <td>object</td>\n      <td>float64</td>\n      <td>float64</td>\n      <td>float64</td>\n      <td>int64</td>\n      <td>float64</td>\n      <td>float64</td>\n      <td>int64</td>\n      <td>int64</td>\n      <td>float64</td>\n      <td>float64</td>\n      <td>float64</td>\n      <td>int64</td>\n    </tr>\n    <tr>\n      <th>0101cfc3cc3970c26713608ee57e62e1</th>\n      <td>...</td>\n      <td>...</td>\n      <td>...</td>\n      <td>...</td>\n      <td>...</td>\n      <td>...</td>\n      <td>...</td>\n      <td>...</td>\n      <td>...</td>\n      <td>...</td>\n      <td>...</td>\n      <td>...</td>\n      <td>...</td>\n      <td>...</td>\n      <td>...</td>\n      <td>...</td>\n      <td>...</td>\n      <td>...</td>\n      <td>...</td>\n      <td>...</td>\n      <td>...</td>\n      <td>...</td>\n      <td>...</td>\n      <td>...</td>\n      <td>...</td>\n      <td>...</td>\n      <td>...</td>\n      <td>...</td>\n      <td>...</td>\n      <td>...</td>\n      <td>...</td>\n      <td>...</td>\n      <td>...</td>\n      <td>...</td>\n      <td>...</td>\n      <td>...</td>\n      <td>...</td>\n      <td>...</td>\n      <td>...</td>\n      <td>...</td>\n      <td>...</td>\n      <td>...</td>\n      <td>...</td>\n      <td>...</td>\n      <td>...</td>\n      <td>...</td>\n      <td>...</td>\n      <td>...</td>\n      <td>...</td>\n      <td>...</td>\n      <td>...</td>\n      <td>...</td>\n      <td>...</td>\n      <td>...</td>\n      <td>...</td>\n      <td>...</td>\n      <td>...</td>\n      <td>...</td>\n      <td>...</td>\n      <td>...</td>\n      <td>...</td>\n      <td>...</td>\n      <td>...</td>\n      <td>...</td>\n      <td>...</td>\n      <td>...</td>\n      <td>...</td>\n      <td>...</td>\n      <td>...</td>\n      <td>...</td>\n      <td>...</td>\n      <td>...</td>\n      <td>...</td>\n      <td>...</td>\n      <td>...</td>\n      <td>...</td>\n      <td>...</td>\n      <td>...</td>\n      <td>...</td>\n      <td>...</td>\n      <td>...</td>\n      <td>...</td>\n    </tr>\n    <tr>\n      <th>...</th>\n      <td>...</td>\n      <td>...</td>\n      <td>...</td>\n      <td>...</td>\n      <td>...</td>\n      <td>...</td>\n      <td>...</td>\n      <td>...</td>\n      <td>...</td>\n      <td>...</td>\n      <td>...</td>\n      <td>...</td>\n      <td>...</td>\n      <td>...</td>\n      <td>...</td>\n      <td>...</td>\n      <td>...</td>\n      <td>...</td>\n      <td>...</td>\n      <td>...</td>\n      <td>...</td>\n      <td>...</td>\n      <td>...</td>\n      <td>...</td>\n      <td>...</td>\n      <td>...</td>\n      <td>...</td>\n      <td>...</td>\n      <td>...</td>\n      <td>...</td>\n      <td>...</td>\n      <td>...</td>\n      <td>...</td>\n      <td>...</td>\n      <td>...</td>\n      <td>...</td>\n      <td>...</td>\n      <td>...</td>\n      <td>...</td>\n      <td>...</td>\n      <td>...</td>\n      <td>...</td>\n      <td>...</td>\n      <td>...</td>\n      <td>...</td>\n      <td>...</td>\n      <td>...</td>\n      <td>...</td>\n      <td>...</td>\n      <td>...</td>\n      <td>...</td>\n      <td>...</td>\n      <td>...</td>\n      <td>...</td>\n      <td>...</td>\n      <td>...</td>\n      <td>...</td>\n      <td>...</td>\n      <td>...</td>\n      <td>...</td>\n      <td>...</td>\n      <td>...</td>\n      <td>...</td>\n      <td>...</td>\n      <td>...</td>\n      <td>...</td>\n      <td>...</td>\n      <td>...</td>\n      <td>...</td>\n      <td>...</td>\n      <td>...</td>\n      <td>...</td>\n      <td>...</td>\n      <td>...</td>\n      <td>...</td>\n      <td>...</td>\n      <td>...</td>\n      <td>...</td>\n      <td>...</td>\n      <td>...</td>\n      <td>...</td>\n      <td>...</td>\n    </tr>\n    <tr>\n      <th>ff004763ecb08ea8d52833ae10e475da</th>\n      <td>...</td>\n      <td>...</td>\n      <td>...</td>\n      <td>...</td>\n      <td>...</td>\n      <td>...</td>\n      <td>...</td>\n      <td>...</td>\n      <td>...</td>\n      <td>...</td>\n      <td>...</td>\n      <td>...</td>\n      <td>...</td>\n      <td>...</td>\n      <td>...</td>\n      <td>...</td>\n      <td>...</td>\n      <td>...</td>\n      <td>...</td>\n      <td>...</td>\n      <td>...</td>\n      <td>...</td>\n      <td>...</td>\n      <td>...</td>\n      <td>...</td>\n      <td>...</td>\n      <td>...</td>\n      <td>...</td>\n      <td>...</td>\n      <td>...</td>\n      <td>...</td>\n      <td>...</td>\n      <td>...</td>\n      <td>...</td>\n      <td>...</td>\n      <td>...</td>\n      <td>...</td>\n      <td>...</td>\n      <td>...</td>\n      <td>...</td>\n      <td>...</td>\n      <td>...</td>\n      <td>...</td>\n      <td>...</td>\n      <td>...</td>\n      <td>...</td>\n      <td>...</td>\n      <td>...</td>\n      <td>...</td>\n      <td>...</td>\n      <td>...</td>\n      <td>...</td>\n      <td>...</td>\n      <td>...</td>\n      <td>...</td>\n      <td>...</td>\n      <td>...</td>\n      <td>...</td>\n      <td>...</td>\n      <td>...</td>\n      <td>...</td>\n      <td>...</td>\n      <td>...</td>\n      <td>...</td>\n      <td>...</td>\n      <td>...</td>\n      <td>...</td>\n      <td>...</td>\n      <td>...</td>\n      <td>...</td>\n      <td>...</td>\n      <td>...</td>\n      <td>...</td>\n      <td>...</td>\n      <td>...</td>\n      <td>...</td>\n      <td>...</td>\n      <td>...</td>\n      <td>...</td>\n      <td>...</td>\n      <td>...</td>\n      <td>...</td>\n    </tr>\n    <tr>\n      <th>ffffff75ba4f33d938ccfdb148b8ea16</th>\n      <td>...</td>\n      <td>...</td>\n      <td>...</td>\n      <td>...</td>\n      <td>...</td>\n      <td>...</td>\n      <td>...</td>\n      <td>...</td>\n      <td>...</td>\n      <td>...</td>\n      <td>...</td>\n      <td>...</td>\n      <td>...</td>\n      <td>...</td>\n      <td>...</td>\n      <td>...</td>\n      <td>...</td>\n      <td>...</td>\n      <td>...</td>\n      <td>...</td>\n      <td>...</td>\n      <td>...</td>\n      <td>...</td>\n      <td>...</td>\n      <td>...</td>\n      <td>...</td>\n      <td>...</td>\n      <td>...</td>\n      <td>...</td>\n      <td>...</td>\n      <td>...</td>\n      <td>...</td>\n      <td>...</td>\n      <td>...</td>\n      <td>...</td>\n      <td>...</td>\n      <td>...</td>\n      <td>...</td>\n      <td>...</td>\n      <td>...</td>\n      <td>...</td>\n      <td>...</td>\n      <td>...</td>\n      <td>...</td>\n      <td>...</td>\n      <td>...</td>\n      <td>...</td>\n      <td>...</td>\n      <td>...</td>\n      <td>...</td>\n      <td>...</td>\n      <td>...</td>\n      <td>...</td>\n      <td>...</td>\n      <td>...</td>\n      <td>...</td>\n      <td>...</td>\n      <td>...</td>\n      <td>...</td>\n      <td>...</td>\n      <td>...</td>\n      <td>...</td>\n      <td>...</td>\n      <td>...</td>\n      <td>...</td>\n      <td>...</td>\n      <td>...</td>\n      <td>...</td>\n      <td>...</td>\n      <td>...</td>\n      <td>...</td>\n      <td>...</td>\n      <td>...</td>\n      <td>...</td>\n      <td>...</td>\n      <td>...</td>\n      <td>...</td>\n      <td>...</td>\n      <td>...</td>\n      <td>...</td>\n      <td>...</td>\n      <td>...</td>\n    </tr>\n  </tbody>\n</table>\n</div>\n<div>Dask Name: read-parquet, 256 tasks</div>",
      "text/plain": "Dask DataFrame Structure:\n                                 ProductName EngineVersion AppVersion AvSigVersion IsBeta RtpStateBitfield IsSxsPassiveMode DefaultBrowsersIdentifier AVProductStatesIdentifier AVProductsInstalled AVProductsEnabled HasTpm CountryIdentifier CityIdentifier OrganizationIdentifier GeoNameIdentifier LocaleEnglishNameIdentifier Platform Processor   OsVer OsBuild OsSuite OsPlatformSubRelease OsBuildLab SkuEdition IsProtected AutoSampleOptIn PuaMode    SMode IeVerIdentifier SmartScreen Firewall UacLuaenable Census_MDC2FormFactor Census_DeviceFamily Census_OEMNameIdentifier Census_OEMModelIdentifier Census_ProcessorCoreCount Census_ProcessorManufacturerIdentifier Census_ProcessorModelIdentifier Census_ProcessorClass Census_PrimaryDiskTotalCapacity Census_PrimaryDiskTypeName Census_SystemVolumeTotalCapacity Census_HasOpticalDiskDrive Census_TotalPhysicalRAM Census_ChassisTypeName Census_InternalPrimaryDiagonalDisplaySizeInInches Census_InternalPrimaryDisplayResolutionHorizontal Census_InternalPrimaryDisplayResolutionVertical Census_PowerPlatformRoleName Census_InternalBatteryType Census_InternalBatteryNumberOfCharges Census_OSVersion Census_OSArchitecture Census_OSBranch Census_OSBuildNumber Census_OSBuildRevision Census_OSEdition Census_OSSkuName Census_OSInstallTypeName Census_OSInstallLanguageIdentifier Census_OSUILocaleIdentifier Census_OSWUAutoUpdateOptionsName Census_IsPortableOperatingSystem Census_GenuineStateName Census_ActivationChannel Census_IsFlightingInternal Census_IsFlightsDisabled Census_FlightRing Census_ThresholdOptIn Census_FirmwareManufacturerIdentifier Census_FirmwareVersionIdentifier Census_IsSecureBootEnabled Census_IsWIMBootEnabled Census_IsVirtualDevice Census_IsTouchEnabled Census_IsPenCapable Census_IsAlwaysOnAlwaysConnectedCapable Wdft_IsGamer Wdft_RegionIdentifier HasDetections\nnpartitions=256                                                                                                                                                                                                                                                                                                                                                                                                                                                                                                                                                                                                                                                                                                                                                                                                                                                                                                                                                                                                                                                                                                                                                                                                                                                                                                                                                                                                                                                                                                                                                                                                                                                                                                                                                                                                                                                                                    \n0000028988387b115f69f31a3bf04f09      object        object     object       object  int64          float64            int64                   float64                   float64             float64           float64  int64             int64        float64                float64           float64                       int64   object    object  object   int64   int64               object     object     object     float64           int64  object  float64         float64      object  float64      float64                object              object                  float64                   float64                   float64                                float64                         float64                object                         float64                     object                          float64                      int64                 float64                 object                                           float64                                           float64                                         float64                       object                     object                               float64           object                object          object                int64                  int64           object           object                   object                            float64                       int64                           object                            int64                  object                   object                    float64                  float64            object               float64                               float64                          float64                      int64                 float64                float64                 int64               int64                                 float64      float64               float64         int64\n0101cfc3cc3970c26713608ee57e62e1         ...           ...        ...          ...    ...              ...              ...                       ...                       ...                 ...               ...    ...               ...            ...                    ...               ...                         ...      ...       ...     ...     ...     ...                  ...        ...        ...         ...             ...     ...      ...             ...         ...      ...          ...                   ...                 ...                      ...                       ...                       ...                                    ...                             ...                   ...                             ...                        ...                              ...                        ...                     ...                    ...                                               ...                                               ...                                             ...                          ...                        ...                                   ...              ...                   ...             ...                  ...                    ...              ...              ...                      ...                                ...                         ...                              ...                              ...                     ...                      ...                        ...                      ...               ...                   ...                                   ...                              ...                        ...                     ...                    ...                   ...                 ...                                     ...          ...                   ...           ...\n...                                      ...           ...        ...          ...    ...              ...              ...                       ...                       ...                 ...               ...    ...               ...            ...                    ...               ...                         ...      ...       ...     ...     ...     ...                  ...        ...        ...         ...             ...     ...      ...             ...         ...      ...          ...                   ...                 ...                      ...                       ...                       ...                                    ...                             ...                   ...                             ...                        ...                              ...                        ...                     ...                    ...                                               ...                                               ...                                             ...                          ...                        ...                                   ...              ...                   ...             ...                  ...                    ...              ...              ...                      ...                                ...                         ...                              ...                              ...                     ...                      ...                        ...                      ...               ...                   ...                                   ...                              ...                        ...                     ...                    ...                   ...                 ...                                     ...          ...                   ...           ...\nff004763ecb08ea8d52833ae10e475da         ...           ...        ...          ...    ...              ...              ...                       ...                       ...                 ...               ...    ...               ...            ...                    ...               ...                         ...      ...       ...     ...     ...     ...                  ...        ...        ...         ...             ...     ...      ...             ...         ...      ...          ...                   ...                 ...                      ...                       ...                       ...                                    ...                             ...                   ...                             ...                        ...                              ...                        ...                     ...                    ...                                               ...                                               ...                                             ...                          ...                        ...                                   ...              ...                   ...             ...                  ...                    ...              ...              ...                      ...                                ...                         ...                              ...                              ...                     ...                      ...                        ...                      ...               ...                   ...                                   ...                              ...                        ...                     ...                    ...                   ...                 ...                                     ...          ...                   ...           ...\nffffff75ba4f33d938ccfdb148b8ea16         ...           ...        ...          ...    ...              ...              ...                       ...                       ...                 ...               ...    ...               ...            ...                    ...               ...                         ...      ...       ...     ...     ...     ...                  ...        ...        ...         ...             ...     ...      ...             ...         ...      ...          ...                   ...                 ...                      ...                       ...                       ...                                    ...                             ...                   ...                             ...                        ...                              ...                        ...                     ...                    ...                                               ...                                               ...                                             ...                          ...                        ...                                   ...              ...                   ...             ...                  ...                    ...              ...              ...                      ...                                ...                         ...                              ...                              ...                     ...                      ...                        ...                      ...               ...                   ...                                   ...                              ...                        ...                     ...                    ...                   ...                 ...                                     ...          ...                   ...           ...\nDask Name: read-parquet, 256 tasks"
     },
     "execution_count": 13,
     "metadata": {},
     "output_type": "execute_result"
    }
   ],
   "source": [
    "import dask.dataframe as dd\n",
    "\n",
    "for f in files:\n",
    "    if \"train\" in f:\n",
    "        df_train = dd.read_parquet(f\"az://{f}\", storage_options=storage_options)\n",
    "    elif \"test\" in f:\n",
    "        df_test = dd.read_parquet(f\"az://{f}\", storage_options=storage_options)\n",
    "\n",
    "df_train"
   ]
  },
  {
   "cell_type": "markdown",
   "metadata": {},
   "source": [
    "## Exploratory Data Analysis (EDA)\n",
    "\n",
    "Explore the data - for the purpose of this tutorial, we will simply print out a sample of the train and test dataframes and compute other basic descriptions."
   ]
  },
  {
   "cell_type": "code",
   "execution_count": 14,
   "metadata": {},
   "outputs": [
    {
     "data": {
      "text/html": "<div>\n<style scoped>\n    .dataframe tbody tr th:only-of-type {\n        vertical-align: middle;\n    }\n\n    .dataframe tbody tr th {\n        vertical-align: top;\n    }\n\n    .dataframe thead th {\n        text-align: right;\n    }\n</style>\n<table border=\"1\" class=\"dataframe\">\n  <thead>\n    <tr style=\"text-align: right;\">\n      <th></th>\n      <th>ProductName</th>\n      <th>EngineVersion</th>\n      <th>AppVersion</th>\n      <th>AvSigVersion</th>\n      <th>IsBeta</th>\n      <th>RtpStateBitfield</th>\n      <th>IsSxsPassiveMode</th>\n      <th>DefaultBrowsersIdentifier</th>\n      <th>AVProductStatesIdentifier</th>\n      <th>AVProductsInstalled</th>\n      <th>...</th>\n      <th>Census_FirmwareVersionIdentifier</th>\n      <th>Census_IsSecureBootEnabled</th>\n      <th>Census_IsWIMBootEnabled</th>\n      <th>Census_IsVirtualDevice</th>\n      <th>Census_IsTouchEnabled</th>\n      <th>Census_IsPenCapable</th>\n      <th>Census_IsAlwaysOnAlwaysConnectedCapable</th>\n      <th>Wdft_IsGamer</th>\n      <th>Wdft_RegionIdentifier</th>\n      <th>HasDetections</th>\n    </tr>\n    <tr>\n      <th>MachineIdentifier</th>\n      <th></th>\n      <th></th>\n      <th></th>\n      <th></th>\n      <th></th>\n      <th></th>\n      <th></th>\n      <th></th>\n      <th></th>\n      <th></th>\n      <th></th>\n      <th></th>\n      <th></th>\n      <th></th>\n      <th></th>\n      <th></th>\n      <th></th>\n      <th></th>\n      <th></th>\n      <th></th>\n      <th></th>\n    </tr>\n  </thead>\n  <tbody>\n    <tr>\n      <th>0000028988387b115f69f31a3bf04f09</th>\n      <td>win8defender</td>\n      <td>1.1.15100.1</td>\n      <td>4.18.1807.18075</td>\n      <td>1.273.1735.0</td>\n      <td>0</td>\n      <td>7.0</td>\n      <td>0</td>\n      <td>NaN</td>\n      <td>53447.0</td>\n      <td>1.0</td>\n      <td>...</td>\n      <td>36144.0</td>\n      <td>0</td>\n      <td>NaN</td>\n      <td>0.0</td>\n      <td>0</td>\n      <td>0</td>\n      <td>0.0</td>\n      <td>0.0</td>\n      <td>10.0</td>\n      <td>0</td>\n    </tr>\n    <tr>\n      <th>000007535c3f730efa9ea0b7ef1bd645</th>\n      <td>win8defender</td>\n      <td>1.1.14600.4</td>\n      <td>4.13.17134.1</td>\n      <td>1.263.48.0</td>\n      <td>0</td>\n      <td>7.0</td>\n      <td>0</td>\n      <td>NaN</td>\n      <td>53447.0</td>\n      <td>1.0</td>\n      <td>...</td>\n      <td>57858.0</td>\n      <td>0</td>\n      <td>NaN</td>\n      <td>0.0</td>\n      <td>0</td>\n      <td>0</td>\n      <td>0.0</td>\n      <td>0.0</td>\n      <td>8.0</td>\n      <td>0</td>\n    </tr>\n    <tr>\n      <th>000007905a28d863f6d0d597892cd692</th>\n      <td>win8defender</td>\n      <td>1.1.15100.1</td>\n      <td>4.18.1807.18075</td>\n      <td>1.273.1341.0</td>\n      <td>0</td>\n      <td>7.0</td>\n      <td>0</td>\n      <td>NaN</td>\n      <td>53447.0</td>\n      <td>1.0</td>\n      <td>...</td>\n      <td>52682.0</td>\n      <td>0</td>\n      <td>NaN</td>\n      <td>0.0</td>\n      <td>0</td>\n      <td>0</td>\n      <td>0.0</td>\n      <td>0.0</td>\n      <td>3.0</td>\n      <td>0</td>\n    </tr>\n    <tr>\n      <th>00000b11598a75ea8ba1beea8459149f</th>\n      <td>win8defender</td>\n      <td>1.1.15100.1</td>\n      <td>4.18.1807.18075</td>\n      <td>1.273.1527.0</td>\n      <td>0</td>\n      <td>7.0</td>\n      <td>0</td>\n      <td>NaN</td>\n      <td>53447.0</td>\n      <td>1.0</td>\n      <td>...</td>\n      <td>20050.0</td>\n      <td>0</td>\n      <td>NaN</td>\n      <td>0.0</td>\n      <td>0</td>\n      <td>0</td>\n      <td>0.0</td>\n      <td>0.0</td>\n      <td>3.0</td>\n      <td>1</td>\n    </tr>\n    <tr>\n      <th>000014a5f00daa18e76b81417eeb99fc</th>\n      <td>win8defender</td>\n      <td>1.1.15100.1</td>\n      <td>4.18.1807.18075</td>\n      <td>1.273.1379.0</td>\n      <td>0</td>\n      <td>7.0</td>\n      <td>0</td>\n      <td>NaN</td>\n      <td>53447.0</td>\n      <td>1.0</td>\n      <td>...</td>\n      <td>19844.0</td>\n      <td>0</td>\n      <td>0.0</td>\n      <td>0.0</td>\n      <td>0</td>\n      <td>0</td>\n      <td>0.0</td>\n      <td>0.0</td>\n      <td>1.0</td>\n      <td>1</td>\n    </tr>\n  </tbody>\n</table>\n<p>5 rows × 82 columns</p>\n</div>",
      "text/plain": "                                   ProductName EngineVersion       AppVersion  \\\nMachineIdentifier                                                               \n0000028988387b115f69f31a3bf04f09  win8defender   1.1.15100.1  4.18.1807.18075   \n000007535c3f730efa9ea0b7ef1bd645  win8defender   1.1.14600.4     4.13.17134.1   \n000007905a28d863f6d0d597892cd692  win8defender   1.1.15100.1  4.18.1807.18075   \n00000b11598a75ea8ba1beea8459149f  win8defender   1.1.15100.1  4.18.1807.18075   \n000014a5f00daa18e76b81417eeb99fc  win8defender   1.1.15100.1  4.18.1807.18075   \n\n                                  AvSigVersion  IsBeta  RtpStateBitfield  \\\nMachineIdentifier                                                          \n0000028988387b115f69f31a3bf04f09  1.273.1735.0       0               7.0   \n000007535c3f730efa9ea0b7ef1bd645    1.263.48.0       0               7.0   \n000007905a28d863f6d0d597892cd692  1.273.1341.0       0               7.0   \n00000b11598a75ea8ba1beea8459149f  1.273.1527.0       0               7.0   \n000014a5f00daa18e76b81417eeb99fc  1.273.1379.0       0               7.0   \n\n                                  IsSxsPassiveMode  DefaultBrowsersIdentifier  \\\nMachineIdentifier                                                               \n0000028988387b115f69f31a3bf04f09                 0                        NaN   \n000007535c3f730efa9ea0b7ef1bd645                 0                        NaN   \n000007905a28d863f6d0d597892cd692                 0                        NaN   \n00000b11598a75ea8ba1beea8459149f                 0                        NaN   \n000014a5f00daa18e76b81417eeb99fc                 0                        NaN   \n\n                                  AVProductStatesIdentifier  \\\nMachineIdentifier                                             \n0000028988387b115f69f31a3bf04f09                    53447.0   \n000007535c3f730efa9ea0b7ef1bd645                    53447.0   \n000007905a28d863f6d0d597892cd692                    53447.0   \n00000b11598a75ea8ba1beea8459149f                    53447.0   \n000014a5f00daa18e76b81417eeb99fc                    53447.0   \n\n                                  AVProductsInstalled  ...  \\\nMachineIdentifier                                      ...   \n0000028988387b115f69f31a3bf04f09                  1.0  ...   \n000007535c3f730efa9ea0b7ef1bd645                  1.0  ...   \n000007905a28d863f6d0d597892cd692                  1.0  ...   \n00000b11598a75ea8ba1beea8459149f                  1.0  ...   \n000014a5f00daa18e76b81417eeb99fc                  1.0  ...   \n\n                                  Census_FirmwareVersionIdentifier  \\\nMachineIdentifier                                                    \n0000028988387b115f69f31a3bf04f09                           36144.0   \n000007535c3f730efa9ea0b7ef1bd645                           57858.0   \n000007905a28d863f6d0d597892cd692                           52682.0   \n00000b11598a75ea8ba1beea8459149f                           20050.0   \n000014a5f00daa18e76b81417eeb99fc                           19844.0   \n\n                                  Census_IsSecureBootEnabled  \\\nMachineIdentifier                                              \n0000028988387b115f69f31a3bf04f09                           0   \n000007535c3f730efa9ea0b7ef1bd645                           0   \n000007905a28d863f6d0d597892cd692                           0   \n00000b11598a75ea8ba1beea8459149f                           0   \n000014a5f00daa18e76b81417eeb99fc                           0   \n\n                                  Census_IsWIMBootEnabled  \\\nMachineIdentifier                                           \n0000028988387b115f69f31a3bf04f09                      NaN   \n000007535c3f730efa9ea0b7ef1bd645                      NaN   \n000007905a28d863f6d0d597892cd692                      NaN   \n00000b11598a75ea8ba1beea8459149f                      NaN   \n000014a5f00daa18e76b81417eeb99fc                      0.0   \n\n                                  Census_IsVirtualDevice  \\\nMachineIdentifier                                          \n0000028988387b115f69f31a3bf04f09                     0.0   \n000007535c3f730efa9ea0b7ef1bd645                     0.0   \n000007905a28d863f6d0d597892cd692                     0.0   \n00000b11598a75ea8ba1beea8459149f                     0.0   \n000014a5f00daa18e76b81417eeb99fc                     0.0   \n\n                                  Census_IsTouchEnabled  Census_IsPenCapable  \\\nMachineIdentifier                                                              \n0000028988387b115f69f31a3bf04f09                      0                    0   \n000007535c3f730efa9ea0b7ef1bd645                      0                    0   \n000007905a28d863f6d0d597892cd692                      0                    0   \n00000b11598a75ea8ba1beea8459149f                      0                    0   \n000014a5f00daa18e76b81417eeb99fc                      0                    0   \n\n                                  Census_IsAlwaysOnAlwaysConnectedCapable  \\\nMachineIdentifier                                                           \n0000028988387b115f69f31a3bf04f09                                      0.0   \n000007535c3f730efa9ea0b7ef1bd645                                      0.0   \n000007905a28d863f6d0d597892cd692                                      0.0   \n00000b11598a75ea8ba1beea8459149f                                      0.0   \n000014a5f00daa18e76b81417eeb99fc                                      0.0   \n\n                                 Wdft_IsGamer Wdft_RegionIdentifier  \\\nMachineIdentifier                                                     \n0000028988387b115f69f31a3bf04f09          0.0                  10.0   \n000007535c3f730efa9ea0b7ef1bd645          0.0                   8.0   \n000007905a28d863f6d0d597892cd692          0.0                   3.0   \n00000b11598a75ea8ba1beea8459149f          0.0                   3.0   \n000014a5f00daa18e76b81417eeb99fc          0.0                   1.0   \n\n                                 HasDetections  \nMachineIdentifier                               \n0000028988387b115f69f31a3bf04f09             0  \n000007535c3f730efa9ea0b7ef1bd645             0  \n000007905a28d863f6d0d597892cd692             0  \n00000b11598a75ea8ba1beea8459149f             1  \n000014a5f00daa18e76b81417eeb99fc             1  \n\n[5 rows x 82 columns]"
     },
     "execution_count": 14,
     "metadata": {},
     "output_type": "execute_result"
    }
   ],
   "source": [
    "df_train.head()"
   ]
  },
  {
   "cell_type": "code",
   "execution_count": 15,
   "metadata": {},
   "outputs": [
    {
     "data": {
      "text/html": "<div>\n<style scoped>\n    .dataframe tbody tr th:only-of-type {\n        vertical-align: middle;\n    }\n\n    .dataframe tbody tr th {\n        vertical-align: top;\n    }\n\n    .dataframe thead th {\n        text-align: right;\n    }\n</style>\n<table border=\"1\" class=\"dataframe\">\n  <thead>\n    <tr style=\"text-align: right;\">\n      <th></th>\n      <th>ProductName</th>\n      <th>EngineVersion</th>\n      <th>AppVersion</th>\n      <th>AvSigVersion</th>\n      <th>IsBeta</th>\n      <th>RtpStateBitfield</th>\n      <th>IsSxsPassiveMode</th>\n      <th>DefaultBrowsersIdentifier</th>\n      <th>AVProductStatesIdentifier</th>\n      <th>AVProductsInstalled</th>\n      <th>...</th>\n      <th>Census_FirmwareManufacturerIdentifier</th>\n      <th>Census_FirmwareVersionIdentifier</th>\n      <th>Census_IsSecureBootEnabled</th>\n      <th>Census_IsWIMBootEnabled</th>\n      <th>Census_IsVirtualDevice</th>\n      <th>Census_IsTouchEnabled</th>\n      <th>Census_IsPenCapable</th>\n      <th>Census_IsAlwaysOnAlwaysConnectedCapable</th>\n      <th>Wdft_IsGamer</th>\n      <th>Wdft_RegionIdentifier</th>\n    </tr>\n    <tr>\n      <th>MachineIdentifier</th>\n      <th></th>\n      <th></th>\n      <th></th>\n      <th></th>\n      <th></th>\n      <th></th>\n      <th></th>\n      <th></th>\n      <th></th>\n      <th></th>\n      <th></th>\n      <th></th>\n      <th></th>\n      <th></th>\n      <th></th>\n      <th></th>\n      <th></th>\n      <th></th>\n      <th></th>\n      <th></th>\n      <th></th>\n    </tr>\n  </thead>\n  <tbody>\n    <tr>\n      <th>0000010489e3af074adeac69c53e555e</th>\n      <td>win8defender</td>\n      <td>1.1.15400.5</td>\n      <td>4.18.1810.5</td>\n      <td>1.281.501.0</td>\n      <td>0</td>\n      <td>7.0</td>\n      <td>0</td>\n      <td>NaN</td>\n      <td>53447.0</td>\n      <td>1.0</td>\n      <td>...</td>\n      <td>807.0</td>\n      <td>8554.0</td>\n      <td>1</td>\n      <td>NaN</td>\n      <td>0.0</td>\n      <td>0</td>\n      <td>0</td>\n      <td>0.0</td>\n      <td>0.0</td>\n      <td>7.0</td>\n    </tr>\n    <tr>\n      <th>00000176ac758d54827acd545b6315a5</th>\n      <td>win8defender</td>\n      <td>1.1.15400.4</td>\n      <td>4.18.1809.2</td>\n      <td>1.279.301.0</td>\n      <td>0</td>\n      <td>7.0</td>\n      <td>0</td>\n      <td>NaN</td>\n      <td>53447.0</td>\n      <td>1.0</td>\n      <td>...</td>\n      <td>554.0</td>\n      <td>33105.0</td>\n      <td>1</td>\n      <td>NaN</td>\n      <td>0.0</td>\n      <td>0</td>\n      <td>0</td>\n      <td>0.0</td>\n      <td>1.0</td>\n      <td>12.0</td>\n    </tr>\n    <tr>\n      <th>0000019dcefc128c2d4387c1273dae1d</th>\n      <td>win8defender</td>\n      <td>1.1.15300.6</td>\n      <td>4.18.1809.2</td>\n      <td>1.277.230.0</td>\n      <td>0</td>\n      <td>7.0</td>\n      <td>0</td>\n      <td>NaN</td>\n      <td>49480.0</td>\n      <td>2.0</td>\n      <td>...</td>\n      <td>556.0</td>\n      <td>63396.0</td>\n      <td>1</td>\n      <td>NaN</td>\n      <td>0.0</td>\n      <td>0</td>\n      <td>0</td>\n      <td>0.0</td>\n      <td>1.0</td>\n      <td>11.0</td>\n    </tr>\n    <tr>\n      <th>0000055553dc51b1295785415f1a224d</th>\n      <td>win8defender</td>\n      <td>1.1.15400.5</td>\n      <td>4.18.1810.5</td>\n      <td>1.281.664.0</td>\n      <td>0</td>\n      <td>7.0</td>\n      <td>0</td>\n      <td>NaN</td>\n      <td>42160.0</td>\n      <td>2.0</td>\n      <td>...</td>\n      <td>628.0</td>\n      <td>26320.0</td>\n      <td>1</td>\n      <td>0.0</td>\n      <td>0.0</td>\n      <td>0</td>\n      <td>0</td>\n      <td>0.0</td>\n      <td>0.0</td>\n      <td>10.0</td>\n    </tr>\n    <tr>\n      <th>00000574cefffeca83ec8adf9285b2bf</th>\n      <td>win8defender</td>\n      <td>1.1.15400.4</td>\n      <td>4.18.1809.2</td>\n      <td>1.279.236.0</td>\n      <td>0</td>\n      <td>7.0</td>\n      <td>0</td>\n      <td>NaN</td>\n      <td>53447.0</td>\n      <td>1.0</td>\n      <td>...</td>\n      <td>556.0</td>\n      <td>63269.0</td>\n      <td>1</td>\n      <td>NaN</td>\n      <td>0.0</td>\n      <td>0</td>\n      <td>0</td>\n      <td>0.0</td>\n      <td>1.0</td>\n      <td>3.0</td>\n    </tr>\n  </tbody>\n</table>\n<p>5 rows × 81 columns</p>\n</div>",
      "text/plain": "                                   ProductName EngineVersion   AppVersion  \\\nMachineIdentifier                                                           \n0000010489e3af074adeac69c53e555e  win8defender   1.1.15400.5  4.18.1810.5   \n00000176ac758d54827acd545b6315a5  win8defender   1.1.15400.4  4.18.1809.2   \n0000019dcefc128c2d4387c1273dae1d  win8defender   1.1.15300.6  4.18.1809.2   \n0000055553dc51b1295785415f1a224d  win8defender   1.1.15400.5  4.18.1810.5   \n00000574cefffeca83ec8adf9285b2bf  win8defender   1.1.15400.4  4.18.1809.2   \n\n                                 AvSigVersion  IsBeta  RtpStateBitfield  \\\nMachineIdentifier                                                         \n0000010489e3af074adeac69c53e555e  1.281.501.0       0               7.0   \n00000176ac758d54827acd545b6315a5  1.279.301.0       0               7.0   \n0000019dcefc128c2d4387c1273dae1d  1.277.230.0       0               7.0   \n0000055553dc51b1295785415f1a224d  1.281.664.0       0               7.0   \n00000574cefffeca83ec8adf9285b2bf  1.279.236.0       0               7.0   \n\n                                  IsSxsPassiveMode  DefaultBrowsersIdentifier  \\\nMachineIdentifier                                                               \n0000010489e3af074adeac69c53e555e                 0                        NaN   \n00000176ac758d54827acd545b6315a5                 0                        NaN   \n0000019dcefc128c2d4387c1273dae1d                 0                        NaN   \n0000055553dc51b1295785415f1a224d                 0                        NaN   \n00000574cefffeca83ec8adf9285b2bf                 0                        NaN   \n\n                                  AVProductStatesIdentifier  \\\nMachineIdentifier                                             \n0000010489e3af074adeac69c53e555e                    53447.0   \n00000176ac758d54827acd545b6315a5                    53447.0   \n0000019dcefc128c2d4387c1273dae1d                    49480.0   \n0000055553dc51b1295785415f1a224d                    42160.0   \n00000574cefffeca83ec8adf9285b2bf                    53447.0   \n\n                                  AVProductsInstalled  ...  \\\nMachineIdentifier                                      ...   \n0000010489e3af074adeac69c53e555e                  1.0  ...   \n00000176ac758d54827acd545b6315a5                  1.0  ...   \n0000019dcefc128c2d4387c1273dae1d                  2.0  ...   \n0000055553dc51b1295785415f1a224d                  2.0  ...   \n00000574cefffeca83ec8adf9285b2bf                  1.0  ...   \n\n                                  Census_FirmwareManufacturerIdentifier  \\\nMachineIdentifier                                                         \n0000010489e3af074adeac69c53e555e                                  807.0   \n00000176ac758d54827acd545b6315a5                                  554.0   \n0000019dcefc128c2d4387c1273dae1d                                  556.0   \n0000055553dc51b1295785415f1a224d                                  628.0   \n00000574cefffeca83ec8adf9285b2bf                                  556.0   \n\n                                  Census_FirmwareVersionIdentifier  \\\nMachineIdentifier                                                    \n0000010489e3af074adeac69c53e555e                            8554.0   \n00000176ac758d54827acd545b6315a5                           33105.0   \n0000019dcefc128c2d4387c1273dae1d                           63396.0   \n0000055553dc51b1295785415f1a224d                           26320.0   \n00000574cefffeca83ec8adf9285b2bf                           63269.0   \n\n                                  Census_IsSecureBootEnabled  \\\nMachineIdentifier                                              \n0000010489e3af074adeac69c53e555e                           1   \n00000176ac758d54827acd545b6315a5                           1   \n0000019dcefc128c2d4387c1273dae1d                           1   \n0000055553dc51b1295785415f1a224d                           1   \n00000574cefffeca83ec8adf9285b2bf                           1   \n\n                                  Census_IsWIMBootEnabled  \\\nMachineIdentifier                                           \n0000010489e3af074adeac69c53e555e                      NaN   \n00000176ac758d54827acd545b6315a5                      NaN   \n0000019dcefc128c2d4387c1273dae1d                      NaN   \n0000055553dc51b1295785415f1a224d                      0.0   \n00000574cefffeca83ec8adf9285b2bf                      NaN   \n\n                                  Census_IsVirtualDevice  \\\nMachineIdentifier                                          \n0000010489e3af074adeac69c53e555e                     0.0   \n00000176ac758d54827acd545b6315a5                     0.0   \n0000019dcefc128c2d4387c1273dae1d                     0.0   \n0000055553dc51b1295785415f1a224d                     0.0   \n00000574cefffeca83ec8adf9285b2bf                     0.0   \n\n                                  Census_IsTouchEnabled  Census_IsPenCapable  \\\nMachineIdentifier                                                              \n0000010489e3af074adeac69c53e555e                      0                    0   \n00000176ac758d54827acd545b6315a5                      0                    0   \n0000019dcefc128c2d4387c1273dae1d                      0                    0   \n0000055553dc51b1295785415f1a224d                      0                    0   \n00000574cefffeca83ec8adf9285b2bf                      0                    0   \n\n                                 Census_IsAlwaysOnAlwaysConnectedCapable  \\\nMachineIdentifier                                                          \n0000010489e3af074adeac69c53e555e                                     0.0   \n00000176ac758d54827acd545b6315a5                                     0.0   \n0000019dcefc128c2d4387c1273dae1d                                     0.0   \n0000055553dc51b1295785415f1a224d                                     0.0   \n00000574cefffeca83ec8adf9285b2bf                                     0.0   \n\n                                 Wdft_IsGamer Wdft_RegionIdentifier  \nMachineIdentifier                                                    \n0000010489e3af074adeac69c53e555e          0.0                   7.0  \n00000176ac758d54827acd545b6315a5          1.0                  12.0  \n0000019dcefc128c2d4387c1273dae1d          1.0                  11.0  \n0000055553dc51b1295785415f1a224d          0.0                  10.0  \n00000574cefffeca83ec8adf9285b2bf          1.0                   3.0  \n\n[5 rows x 81 columns]"
     },
     "execution_count": 15,
     "metadata": {},
     "output_type": "execute_result"
    }
   ],
   "source": [
    "df_test.head()"
   ]
  },
  {
   "cell_type": "code",
   "execution_count": 16,
   "metadata": {},
   "outputs": [
    {
     "name": "stdout",
     "output_type": "stream",
     "text": [
      "CPU times: user 1min 29s, sys: 5.47 s, total: 1min 35s\n",
      "Wall time: 4min 29s\n"
     ]
    },
    {
     "data": {
      "text/html": "<div>\n<style scoped>\n    .dataframe tbody tr th:only-of-type {\n        vertical-align: middle;\n    }\n\n    .dataframe tbody tr th {\n        vertical-align: top;\n    }\n\n    .dataframe thead th {\n        text-align: right;\n    }\n</style>\n<table border=\"1\" class=\"dataframe\">\n  <thead>\n    <tr style=\"text-align: right;\">\n      <th></th>\n      <th>IsBeta</th>\n      <th>RtpStateBitfield</th>\n      <th>IsSxsPassiveMode</th>\n      <th>DefaultBrowsersIdentifier</th>\n      <th>AVProductStatesIdentifier</th>\n      <th>AVProductsInstalled</th>\n      <th>AVProductsEnabled</th>\n      <th>HasTpm</th>\n      <th>CountryIdentifier</th>\n      <th>CityIdentifier</th>\n      <th>...</th>\n      <th>Census_FirmwareVersionIdentifier</th>\n      <th>Census_IsSecureBootEnabled</th>\n      <th>Census_IsWIMBootEnabled</th>\n      <th>Census_IsVirtualDevice</th>\n      <th>Census_IsTouchEnabled</th>\n      <th>Census_IsPenCapable</th>\n      <th>Census_IsAlwaysOnAlwaysConnectedCapable</th>\n      <th>Wdft_IsGamer</th>\n      <th>Wdft_RegionIdentifier</th>\n      <th>HasDetections</th>\n    </tr>\n  </thead>\n  <tbody>\n    <tr>\n      <th>count</th>\n      <td>8.921483e+06</td>\n      <td>8.889165e+06</td>\n      <td>8.921483e+06</td>\n      <td>433438.000000</td>\n      <td>8.885262e+06</td>\n      <td>8.885262e+06</td>\n      <td>8.885262e+06</td>\n      <td>8.921483e+06</td>\n      <td>8.921483e+06</td>\n      <td>8.596074e+06</td>\n      <td>...</td>\n      <td>8.761350e+06</td>\n      <td>8.921483e+06</td>\n      <td>3.261780e+06</td>\n      <td>8.905530e+06</td>\n      <td>8.921483e+06</td>\n      <td>8.921483e+06</td>\n      <td>8.850140e+06</td>\n      <td>8.618032e+06</td>\n      <td>8.618032e+06</td>\n      <td>8.921483e+06</td>\n    </tr>\n    <tr>\n      <th>mean</th>\n      <td>7.509962e-06</td>\n      <td>6.845332e+00</td>\n      <td>1.733378e-02</td>\n      <td>1658.355421</td>\n      <td>4.784001e+04</td>\n      <td>1.326779e+00</td>\n      <td>1.020967e+00</td>\n      <td>9.879711e-01</td>\n      <td>1.080490e+02</td>\n      <td>8.126653e+04</td>\n      <td>...</td>\n      <td>3.302792e+04</td>\n      <td>4.860229e-01</td>\n      <td>3.065811e-07</td>\n      <td>7.039446e-03</td>\n      <td>1.255431e-01</td>\n      <td>3.807091e-02</td>\n      <td>5.741920e-02</td>\n      <td>2.835785e-01</td>\n      <td>7.883565e+00</td>\n      <td>4.997927e-01</td>\n    </tr>\n    <tr>\n      <th>std</th>\n      <td>2.740421e-03</td>\n      <td>1.026055e+00</td>\n      <td>1.305118e-01</td>\n      <td>998.960373</td>\n      <td>1.403237e+04</td>\n      <td>5.229272e-01</td>\n      <td>1.675544e-01</td>\n      <td>1.090149e-01</td>\n      <td>6.304706e+01</td>\n      <td>4.892339e+04</td>\n      <td>...</td>\n      <td>2.120691e+04</td>\n      <td>4.998046e-01</td>\n      <td>5.536976e-04</td>\n      <td>8.360558e-02</td>\n      <td>3.313338e-01</td>\n      <td>1.913675e-01</td>\n      <td>2.326419e-01</td>\n      <td>4.507347e-01</td>\n      <td>4.550121e+00</td>\n      <td>5.000000e-01</td>\n    </tr>\n    <tr>\n      <th>min</th>\n      <td>0.000000e+00</td>\n      <td>0.000000e+00</td>\n      <td>0.000000e+00</td>\n      <td>1.000000</td>\n      <td>3.000000e+00</td>\n      <td>0.000000e+00</td>\n      <td>0.000000e+00</td>\n      <td>0.000000e+00</td>\n      <td>1.000000e+00</td>\n      <td>5.000000e+00</td>\n      <td>...</td>\n      <td>3.000000e+00</td>\n      <td>0.000000e+00</td>\n      <td>0.000000e+00</td>\n      <td>0.000000e+00</td>\n      <td>0.000000e+00</td>\n      <td>0.000000e+00</td>\n      <td>0.000000e+00</td>\n      <td>0.000000e+00</td>\n      <td>1.000000e+00</td>\n      <td>0.000000e+00</td>\n    </tr>\n    <tr>\n      <th>25%</th>\n      <td>0.000000e+00</td>\n      <td>7.000000e+00</td>\n      <td>0.000000e+00</td>\n      <td>1078.000000</td>\n      <td>4.948000e+04</td>\n      <td>1.000000e+00</td>\n      <td>1.000000e+00</td>\n      <td>1.000000e+00</td>\n      <td>5.100000e+01</td>\n      <td>3.737600e+04</td>\n      <td>...</td>\n      <td>1.329900e+04</td>\n      <td>0.000000e+00</td>\n      <td>0.000000e+00</td>\n      <td>0.000000e+00</td>\n      <td>0.000000e+00</td>\n      <td>0.000000e+00</td>\n      <td>0.000000e+00</td>\n      <td>0.000000e+00</td>\n      <td>3.000000e+00</td>\n      <td>0.000000e+00</td>\n    </tr>\n    <tr>\n      <th>50%</th>\n      <td>0.000000e+00</td>\n      <td>7.000000e+00</td>\n      <td>0.000000e+00</td>\n      <td>1727.000000</td>\n      <td>5.344700e+04</td>\n      <td>1.000000e+00</td>\n      <td>1.000000e+00</td>\n      <td>1.000000e+00</td>\n      <td>9.700000e+01</td>\n      <td>8.290400e+04</td>\n      <td>...</td>\n      <td>3.307500e+04</td>\n      <td>0.000000e+00</td>\n      <td>0.000000e+00</td>\n      <td>0.000000e+00</td>\n      <td>0.000000e+00</td>\n      <td>0.000000e+00</td>\n      <td>0.000000e+00</td>\n      <td>0.000000e+00</td>\n      <td>1.000000e+01</td>\n      <td>1.000000e+00</td>\n    </tr>\n    <tr>\n      <th>75%</th>\n      <td>0.000000e+00</td>\n      <td>7.000000e+00</td>\n      <td>0.000000e+00</td>\n      <td>2434.000000</td>\n      <td>5.344700e+04</td>\n      <td>2.000000e+00</td>\n      <td>1.000000e+00</td>\n      <td>1.000000e+00</td>\n      <td>1.640000e+02</td>\n      <td>1.247360e+05</td>\n      <td>...</td>\n      <td>5.259800e+04</td>\n      <td>1.000000e+00</td>\n      <td>0.000000e+00</td>\n      <td>0.000000e+00</td>\n      <td>0.000000e+00</td>\n      <td>0.000000e+00</td>\n      <td>0.000000e+00</td>\n      <td>1.000000e+00</td>\n      <td>1.100000e+01</td>\n      <td>1.000000e+00</td>\n    </tr>\n    <tr>\n      <th>max</th>\n      <td>1.000000e+00</td>\n      <td>3.500000e+01</td>\n      <td>1.000000e+00</td>\n      <td>3213.000000</td>\n      <td>7.050700e+04</td>\n      <td>7.000000e+00</td>\n      <td>5.000000e+00</td>\n      <td>1.000000e+00</td>\n      <td>2.220000e+02</td>\n      <td>1.679620e+05</td>\n      <td>...</td>\n      <td>7.210500e+04</td>\n      <td>1.000000e+00</td>\n      <td>1.000000e+00</td>\n      <td>1.000000e+00</td>\n      <td>1.000000e+00</td>\n      <td>1.000000e+00</td>\n      <td>1.000000e+00</td>\n      <td>1.000000e+00</td>\n      <td>1.500000e+01</td>\n      <td>1.000000e+00</td>\n    </tr>\n  </tbody>\n</table>\n<p>8 rows × 53 columns</p>\n</div>",
      "text/plain": "             IsBeta  RtpStateBitfield  IsSxsPassiveMode  \\\ncount  8.921483e+06      8.889165e+06      8.921483e+06   \nmean   7.509962e-06      6.845332e+00      1.733378e-02   \nstd    2.740421e-03      1.026055e+00      1.305118e-01   \nmin    0.000000e+00      0.000000e+00      0.000000e+00   \n25%    0.000000e+00      7.000000e+00      0.000000e+00   \n50%    0.000000e+00      7.000000e+00      0.000000e+00   \n75%    0.000000e+00      7.000000e+00      0.000000e+00   \nmax    1.000000e+00      3.500000e+01      1.000000e+00   \n\n       DefaultBrowsersIdentifier  AVProductStatesIdentifier  \\\ncount              433438.000000               8.885262e+06   \nmean                 1658.355421               4.784001e+04   \nstd                   998.960373               1.403237e+04   \nmin                     1.000000               3.000000e+00   \n25%                  1078.000000               4.948000e+04   \n50%                  1727.000000               5.344700e+04   \n75%                  2434.000000               5.344700e+04   \nmax                  3213.000000               7.050700e+04   \n\n       AVProductsInstalled  AVProductsEnabled        HasTpm  \\\ncount         8.885262e+06       8.885262e+06  8.921483e+06   \nmean          1.326779e+00       1.020967e+00  9.879711e-01   \nstd           5.229272e-01       1.675544e-01  1.090149e-01   \nmin           0.000000e+00       0.000000e+00  0.000000e+00   \n25%           1.000000e+00       1.000000e+00  1.000000e+00   \n50%           1.000000e+00       1.000000e+00  1.000000e+00   \n75%           2.000000e+00       1.000000e+00  1.000000e+00   \nmax           7.000000e+00       5.000000e+00  1.000000e+00   \n\n       CountryIdentifier  CityIdentifier  ...  \\\ncount       8.921483e+06    8.596074e+06  ...   \nmean        1.080490e+02    8.126653e+04  ...   \nstd         6.304706e+01    4.892339e+04  ...   \nmin         1.000000e+00    5.000000e+00  ...   \n25%         5.100000e+01    3.737600e+04  ...   \n50%         9.700000e+01    8.290400e+04  ...   \n75%         1.640000e+02    1.247360e+05  ...   \nmax         2.220000e+02    1.679620e+05  ...   \n\n       Census_FirmwareVersionIdentifier  Census_IsSecureBootEnabled  \\\ncount                      8.761350e+06                8.921483e+06   \nmean                       3.302792e+04                4.860229e-01   \nstd                        2.120691e+04                4.998046e-01   \nmin                        3.000000e+00                0.000000e+00   \n25%                        1.329900e+04                0.000000e+00   \n50%                        3.307500e+04                0.000000e+00   \n75%                        5.259800e+04                1.000000e+00   \nmax                        7.210500e+04                1.000000e+00   \n\n       Census_IsWIMBootEnabled  Census_IsVirtualDevice  Census_IsTouchEnabled  \\\ncount             3.261780e+06            8.905530e+06           8.921483e+06   \nmean              3.065811e-07            7.039446e-03           1.255431e-01   \nstd               5.536976e-04            8.360558e-02           3.313338e-01   \nmin               0.000000e+00            0.000000e+00           0.000000e+00   \n25%               0.000000e+00            0.000000e+00           0.000000e+00   \n50%               0.000000e+00            0.000000e+00           0.000000e+00   \n75%               0.000000e+00            0.000000e+00           0.000000e+00   \nmax               1.000000e+00            1.000000e+00           1.000000e+00   \n\n       Census_IsPenCapable  Census_IsAlwaysOnAlwaysConnectedCapable  \\\ncount         8.921483e+06                             8.850140e+06   \nmean          3.807091e-02                             5.741920e-02   \nstd           1.913675e-01                             2.326419e-01   \nmin           0.000000e+00                             0.000000e+00   \n25%           0.000000e+00                             0.000000e+00   \n50%           0.000000e+00                             0.000000e+00   \n75%           0.000000e+00                             0.000000e+00   \nmax           1.000000e+00                             1.000000e+00   \n\n       Wdft_IsGamer  Wdft_RegionIdentifier  HasDetections  \ncount  8.618032e+06           8.618032e+06   8.921483e+06  \nmean   2.835785e-01           7.883565e+00   4.997927e-01  \nstd    4.507347e-01           4.550121e+00   5.000000e-01  \nmin    0.000000e+00           1.000000e+00   0.000000e+00  \n25%    0.000000e+00           3.000000e+00   0.000000e+00  \n50%    0.000000e+00           1.000000e+01   1.000000e+00  \n75%    1.000000e+00           1.100000e+01   1.000000e+00  \nmax    1.000000e+00           1.500000e+01   1.000000e+00  \n\n[8 rows x 53 columns]"
     },
     "execution_count": 16,
     "metadata": {},
     "output_type": "execute_result"
    }
   ],
   "source": [
    "%%time\n",
    "df_train.describe().compute()"
   ]
  },
  {
   "cell_type": "code",
   "execution_count": 17,
   "metadata": {},
   "outputs": [],
   "source": [
    "%%time\n",
    "df_train[\"HasDetections\"].compute().hist()"
   ]
  },
  {
   "cell_type": "markdown",
   "metadata": {},
   "source": [
    "## Data Preparation\n",
    "\n",
    "Prepare data for ML - for the purpose of this tutorial, we will simply ignore non-numeric columns."
   ]
  },
  {
   "cell_type": "code",
   "execution_count": null,
   "metadata": {},
   "outputs": [],
   "source": [
    "cols = [col for col in df_train.columns if df_train.dtypes[col] != \"object\"]\n",
    "cols"
   ]
  },
  {
   "cell_type": "code",
   "execution_count": null,
   "metadata": {},
   "outputs": [],
   "source": []
  },
  {
   "cell_type": "code",
   "execution_count": null,
   "metadata": {},
   "outputs": [],
   "source": [
    "X = df_train[cols].drop(\"HasDetections\", axis=1).values.persist()\n",
    "X"
   ]
  },
  {
   "cell_type": "code",
   "execution_count": null,
   "metadata": {},
   "outputs": [],
   "source": [
    "y = df_train[\"HasDetections\"].values.persist()\n",
    "y"
   ]
  },
  {
   "cell_type": "markdown",
   "metadata": {},
   "source": [
    "## Train XGBoost\n",
    "\n",
    "Now, we can use the ``xgboost.dask`` module for distributed XGBoost training through Python."
   ]
  },
  {
   "cell_type": "code",
   "execution_count": null,
   "metadata": {},
   "outputs": [],
   "source": [
    "import xgboost as xgb\n",
    "\n",
    "dtrain = xgb.dask.DaskDMatrix(c, X, y)\n",
    "dtrain"
   ]
  },
  {
   "cell_type": "code",
   "execution_count": null,
   "metadata": {},
   "outputs": [],
   "source": [
    "num_boost_round = 2  # just see if it works\n",
    "\n",
    "params = {\n",
    "    \"objective\": \"binary:logistic\",\n",
    "    \"learning_rate\": 0.1,\n",
    "    \"gamma\": 0,\n",
    "    \"max_depth\": 8,\n",
    "}"
   ]
  },
  {
   "cell_type": "code",
   "execution_count": null,
   "metadata": {},
   "outputs": [],
   "source": [
    "%%time\n",
    "model = xgb.dask.train(c, params, dtrain, num_boost_round=num_boost_round)\n",
    "model"
   ]
  },
  {
   "cell_type": "markdown",
   "metadata": {},
   "source": [
    "## Save model\n",
    "\n",
    "Optionally, save the model."
   ]
  },
  {
   "cell_type": "code",
   "execution_count": null,
   "metadata": {},
   "outputs": [],
   "source": [
    "model[\"booster\"].save_model(\"xgboost.model\")"
   ]
  }
 ],
 "metadata": {
  "kernelspec": {
   "display_name": "Python 3.8.8 64-bit ('dkdc': conda)",
   "name": "python388jvsc74a57bd06813bb6deec483ed15ac37ef074baa52622250b2b65156cf2f3313d85d7e0391"
  },
  "language_info": {
   "codemirror_mode": {
    "name": "ipython",
    "version": 3
   },
   "file_extension": ".py",
   "mimetype": "text/x-python",
   "name": "python",
   "nbconvert_exporter": "python",
   "pygments_lexer": "ipython3",
   "version": "3.8.8"
  }
 },
 "nbformat": 4,
 "nbformat_minor": 4
}